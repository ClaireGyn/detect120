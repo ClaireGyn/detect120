{
 "cells": [
  {
   "cell_type": "code",
   "execution_count": 105,
   "metadata": {
    "collapsed": false
   },
   "outputs": [
    {
     "name": "stdout",
     "output_type": "stream",
     "text": [
      "Populating the interactive namespace from numpy and matplotlib\n"
     ]
    },
    {
     "name": "stderr",
     "output_type": "stream",
     "text": [
      "//anaconda/lib/python3.5/site-packages/matplotlib-2.0.0b4+2344.g7b27a1b-py3.5-macosx-10.6-x86_64.egg/matplotlib/__init__.py:910: UserWarning: axes.color_cycle is deprecated and replaced with axes.prop_cycle; please use the latter.\n",
      "  warnings.warn(self.msg_depr % (key, alt_key))\n",
      "//anaconda/lib/python3.5/site-packages/matplotlib-2.0.0b4+2344.g7b27a1b-py3.5-macosx-10.6-x86_64.egg/matplotlib/__init__.py:910: UserWarning: svg.embed_char_paths is deprecated and replaced with svg.fonttype; please use the latter.\n",
      "  warnings.warn(self.msg_depr % (key, alt_key))\n"
     ]
    }
   ],
   "source": [
    "from __future__ import print_function\n",
    "import glob\n",
    "import numpy as np\n",
    "import pylab as pl\n",
    "import sys\n",
    "import os\n",
    "import pickle as pkl\n",
    "from scipy.ndimage.filters import median_filter\n",
    "\n",
    "#from gatspy.periodic import LombScargleFast\n",
    "from findImageSize import findsize\n",
    "import json\n",
    "s = json.load( open(\"fbb_matplotlibrc.json\") )\n",
    "pl.rcParams.update(s)\n",
    "\n",
    "%matplotlib nbagg\n",
    "%pylab inline\n",
    "\n",
    "REREAD=False\n",
    "REREAD=True\n",
    "DETREND=0\n",
    "nmax=100\n",
    "lmax = 0"
   ]
  },
  {
   "cell_type": "code",
   "execution_count": 106,
   "metadata": {
    "collapsed": false
   },
   "outputs": [
    {
     "data": {
      "text/plain": [
       "'/Users/fbianco/UIdata//DeLeonLabTest1/load1_2016-08-24-104855-0000.raw'"
      ]
     },
     "execution_count": 106,
     "metadata": {},
     "output_type": "execute_result"
    }
   ],
   "source": [
    "impath = os.getenv(\"UIdata\")+\"/DeLeonLabTest1/load1*\" \n",
    "img = glob.glob(impath+\"*0000.raw\")[0]\n",
    "img"
   ]
  },
  {
   "cell_type": "code",
   "execution_count": 107,
   "metadata": {
    "collapsed": false
   },
   "outputs": [],
   "source": [
    "nrow, ncol = 1530, 2444\n",
    "#= findsize(img)"
   ]
  },
  {
   "cell_type": "code",
   "execution_count": 108,
   "metadata": {
    "collapsed": false
   },
   "outputs": [
    {
     "name": "stdout",
     "output_type": "stream",
     "text": [
      "1530 2444\n"
     ]
    }
   ],
   "source": [
    "nband = 3\n",
    "print (nrow, ncol)"
   ]
  },
  {
   "cell_type": "code",
   "execution_count": 109,
   "metadata": {
    "collapsed": false,
    "scrolled": false
   },
   "outputs": [
    {
     "name": "stdout",
     "output_type": "stream",
     "text": [
      "/Users/fbianco/UIdata//DeLeonLabTest1/load1*\n",
      "445\n"
     ]
    }
   ],
   "source": [
    "print (impath)\n",
    "flist=glob.glob(impath+\"*0???.raw\")\n",
    "print(len(flist))\n",
    "flist11975=np.array(flist)[np.argsort(flist)]\n",
    "#print (flist11975)"
   ]
  },
  {
   "cell_type": "code",
   "execution_count": 110,
   "metadata": {
    "collapsed": false,
    "scrolled": false
   },
   "outputs": [
    {
     "name": "stdout",
     "output_type": "stream",
     "text": [
      "1024 4896.0\n",
      "1088 4608.0\n",
      "1152 4352.0\n",
      "1224 4096.0\n",
      "1536 3264.0\n",
      "1632 3072.0\n",
      "2048 2448.0\n",
      "2176 2304.0\n",
      "2304 2176.0\n",
      "2448 2048.0\n",
      "3072 1632.0\n",
      "3264 1536.0\n",
      "4096 1224.0\n",
      "4352 1152.0\n",
      "4608 1088.0\n",
      "4896 1024.0\n"
     ]
    },
    {
     "name": "stderr",
     "output_type": "stream",
     "text": [
      "//anaconda/lib/python3.5/site-packages/ipykernel/__main__.py:14: VisibleDeprecationWarning: using a non-integer number instead of an integer will result in an error in the future\n"
     ]
    },
    {
     "data": {
      "image/png": "[encoded data removed]",
      "text/plain": [
       "<matplotlib.figure.Figure at 0x11831acf8>"
      ]
     },
     "metadata": {},
     "output_type": "display_data"
    },
    {
     "data": {
      "image/png": "[encoded data removed]",
      "text/plain": [
       "<matplotlib.figure.Figure at 0x114c3afd0>"
      ]
     },
     "metadata": {},
     "output_type": "display_data"
    },
    {
     "data": {
      "image/png": "[encoded data removed]",
      "text/plain": [
       "<matplotlib.figure.Figure at 0x109b7a630>"
      ]
     },
     "metadata": {},
     "output_type": "display_data"
    },
    {
     "data": {
      "image/png": "[encoded data removed]",
      "text/plain": [
       "<matplotlib.figure.Figure at 0x118324390>"
      ]
     },
     "metadata": {},
     "output_type": "display_data"
    },
    {
     "data": {
      "image/png": "[encoded data removed]",
      "text/plain": [
       "<matplotlib.figure.Figure at 0x1180719b0>"
      ]
     },
     "metadata": {},
     "output_type": "display_data"
    },
    {
     "data": {
      "image/png": "[encoded data removed]",
      "text/plain": [
       "<matplotlib.figure.Figure at 0x1182cdfd0>"
      ]
     },
     "metadata": {},
     "output_type": "display_data"
    },
    {
     "data": {
      "image/png": "[encoded data removed]",
      "text/plain": [
       "<matplotlib.figure.Figure at 0x11803b748>"
      ]
     },
     "metadata": {},
     "output_type": "display_data"
    },
    {
     "data": {
      "image/png": "[encoded data removed]",
      "text/plain": [
       "<matplotlib.figure.Figure at 0x1183cba90>"
      ]
     },
     "metadata": {},
     "output_type": "display_data"
    },
    {
     "data": {
      "image/png": "[encoded data removed]",
      "text/plain": [
       "<matplotlib.figure.Figure at 0x1182b13c8>"
      ]
     },
     "metadata": {},
     "output_type": "display_data"
    },
    {
     "data": {
      "image/png": "[encoded data removed]",
      "text/plain": [
       "<matplotlib.figure.Figure at 0x118039400>"
      ]
     },
     "metadata": {},
     "output_type": "display_data"
    },
    {
     "data": {
      "image/png": "[encoded data removed]",
      "text/plain": [
       "<matplotlib.figure.Figure at 0x117fdcfd0>"
      ]
     },
     "metadata": {},
     "output_type": "display_data"
    },
    {
     "data": {
      "image/png": "[encoded data removed]",
      "text/plain": [
       "<matplotlib.figure.Figure at 0x118304b00>"
      ]
     },
     "metadata": {},
     "output_type": "display_data"
    },
    {
     "data": {
      "image/png": "[encoded data removed]",
      "text/plain": [
       "<matplotlib.figure.Figure at 0x114c5f438>"
      ]
     },
     "metadata": {},
     "output_type": "display_data"
    },
    {
     "data": {
      "image/png": "[encoded data removed]",
      "text/plain": [
       "<matplotlib.figure.Figure at 0x11806ac50>"
      ]
     },
     "metadata": {},
     "output_type": "display_data"
    },
    {
     "data": {
      "image/png": "[encoded data removed]",
      "text/plain": [
       "<matplotlib.figure.Figure at 0x118f4cf60>"
      ]
     },
     "metadata": {},
     "output_type": "display_data"
    },
    {
     "data": {
      "image/png": "[encoded data removed]",
      "text/plain": [
       "<matplotlib.figure.Figure at 0x106a23198>"
      ]
     },
     "metadata": {},
     "output_type": "display_data"
    }
   ],
   "source": [
    "nband = 3\n",
    "#f0 = np.fromfile(flist[100],dtype=np.uint8)\n",
    "f0 = (median_filter(255*pow((1.0/255.0*np.fromfile(flist[100], dtype=np.uint8)),1.0/3), \n",
    "                                 footprint=(12*(i+1),12*(i+1),0))).clip(90,255).astype(np.uint8)\n",
    "                  \n",
    "n0 = (len(f0)/3)\n",
    "for i in range(1000, int(n0)):\n",
    "    nrow = i\n",
    "    if len(f0) % (i*3) == 0:\n",
    "        ncol = len(f0)/3/i\n",
    "        if ncol<1000 : break\n",
    "        print (nrow, ncol)\n",
    "        pl.figure()\n",
    "        pl.imshow(f0.reshape(nrow,ncol,nband))\n",
    "    #"
   ]
  },
  {
   "cell_type": "code",
   "execution_count": 111,
   "metadata": {
    "collapsed": false
   },
   "outputs": [],
   "source": [
    "def plotwindows(x1,y1,x2,y2, imfile, axs=None, c='w', plotimg=0):\n",
    "    if axs == None:\n",
    "        fig, axs = pl.subplots(1,1,figsize=(15,15))\n",
    "    #pl.imshow(np.fromfile(flist[0],dtype=np.uint8).reshape(nrow,ncol,nband))\n",
    "    #pl.imshow(np.fromfile(flist[0],dtype=np.uint8).reshape(nrow,ncol,nband)[x1:x2,y1:y2])\n",
    "    #pl.figure()\n",
    "    #axs.imshow(np.fromfile(flist[0],dtype=np.uint8).reshape(nrow,ncol,nband)[y1:y2,x1:x2],  interpolation='none')\n",
    "    if plotimg == 0:\n",
    "        axs.imshow(np.fromfile(imfile,dtype=np.uint8).reshape(nrow,ncol,nband),  interpolation='none')\n",
    "        axs.set_xlim(0, axs.get_xlim()[1])\n",
    "        axs.set_ylim(axs.get_ylim()[0], 0)\n",
    "    axs.plot([x1,x2],[y1,y1], '-', color='%s'%c)    \n",
    "    axs.plot([x2,x2],[y1,y2], '-', color='%s'%c)    \n",
    "    axs.plot([x1,x2],[y2,y2], '-', color='%s'%c)    \n",
    "    axs.plot([x1,x1],[y2,y1], '-', color='%s'%c)    \n",
    "    #pl.show()\n",
    "    "
   ]
  },
  {
   "cell_type": "code",
   "execution_count": 112,
   "metadata": {
    "collapsed": false
   },
   "outputs": [],
   "source": [
    "def read_to_lc(x1,y1,x2,y2, flist, fname, c='w', \n",
    "               showme=False, verbose = False):\n",
    "    if showme :\n",
    "        plotwindows(x1,y1,x2,y2, flist[0], c=c)\n",
    "    if REREAD: \n",
    "        a=np.zeros(len(flist[:nmax]))\n",
    "        for i,f in enumerate(flist[:nmax]):\n",
    "            #print (f)\n",
    "            try: a[i] = (np.fromfile(f,\n",
    "                                     dtype=np.uint8).reshape(nrow,\n",
    "                                                               ncol,\n",
    "                                                               nband)\\\n",
    "                         [y1:y2,x1:x2].sum())\n",
    "            except: \n",
    "                a[i]=float('NaN')\n",
    "                continue\n",
    "        \n",
    "    else:\n",
    "        a=pkl.load(open(fname+\".pkl\",'rb'))\n",
    "    f0 = ((np.fromfile(flist[0],\n",
    "                       dtype=np.uint8).reshape(nrow, \n",
    "                                               ncol,\n",
    "                                               nband)[y1:y2,x1:x2]))\n",
    "    area = (x2-x1)*(y2-y1)\n",
    "    if verbose:\n",
    "        print ('mean: {0:.2f}, stdev: {1:.2f}, area: {2:d} pixels, ' + \n",
    "               '{3:d} images, average flux/pixel: {4:.1f}'.format(\n",
    "                    np.nanmean(a), np.nanstd(a), area, len(a), \n",
    "                np.nanmean(a)/float(area)))\n",
    "    R = float(f0[:,:,0].sum())\n",
    "    G = float(f0[:,:,1].sum())\n",
    "    B = float(f0[:,:,2].sum())\n",
    "    mx = np.argmax([R,G,B])\n",
    "    colors= ['Red','Yellow','Blue']\n",
    "    if verbose:\n",
    "        print (colors[mx], ': R: {0:.2f} G: {1:.2f} B: {2:.2f}'.\\\n",
    "               format(1, G/R, B/R))\n",
    "    if REREAD: pkl.dump(a,open(fname+\".pkl\",\"wb\"))\n",
    "    return (a)\n"
   ]
  },
  {
   "cell_type": "code",
   "execution_count": 113,
   "metadata": {
    "collapsed": true
   },
   "outputs": [],
   "source": [
    "\n",
    "font = {'size'   : 23}\n",
    "def get_plot_lca (x1, y1, x2, y2, flist, fname, c='w', verbose=True):\n",
    "    a= read_to_lc(x1, y1, x2, y2, flist, fname, showme=False, c=c, verbose=verbose)\n",
    "    flux0=(a-np.nanmean(a))/np.nanstd(a)\n",
    "    flux=flux0.copy()\n",
    "    \n",
    "    if verbose:\n",
    "        pl.rc('font', **font)\n",
    "\n",
    "        pl.figure(figsize=(15,5))\n",
    "        pl.plot(flux, color=c)\n",
    "        pl.xlabel(\"img number\")\n",
    "        pl.ylabel(\"standardized flux\")\n",
    "        pl.title(\"119.75hz shutter 4Hz camera sampling\")\n",
    "        pl.xlim(0,200)\n",
    "\n",
    "    return flux0"
   ]
  },
  {
   "cell_type": "code",
   "execution_count": 121,
   "metadata": {
    "collapsed": true
   },
   "outputs": [],
   "source": [
    "allights = [[550,650,1150,1250], [1250,1350,1300,1400]]\n",
    "kelly_colors_hex = [\n",
    "    '#FFB300', # Vivid Yellow\n",
    "    '#803E75', # Strong Purple\n",
    "    '#FF6800', # Vivid Orange\n",
    "    '#A6BDD7', # Very Light Blue\n",
    "    '#C10020', # Vivid Red\n",
    "    '#CEA262', # Grayish Yellow\n",
    "    '#817066', # Medium Gray\n",
    "    '#007D34', # Vivid Green\n",
    "    '#F6768E', # Strong Purplish Pink\n",
    "    '#00538A', # Strong Blue\n",
    "    '#FF7A5C', # Strong Yellowish Pink\n",
    "    '#53377A', # Strong Violet\n",
    "    '#FF8E00', # Vivid Orange Yellow\n",
    "    '#B32851', # Strong Purplish Red\n",
    "    '#F4C800', # Vivid Greenish Yellow\n",
    "    '#7F180D', # Strong Reddish Brown\n",
    "    '#93AA00', # Vivid Yellowish Green\n",
    "    '#593315', # Deep Yellowish Brown\n",
    "    '#F13A13', # Vivid Reddish Orange\n",
    "    '#232C16', # Dark Olive Green\n",
    "    ]\n",
    "lmax = len(allights)"
   ]
  },
  {
   "cell_type": "code",
   "execution_count": 122,
   "metadata": {
    "collapsed": false
   },
   "outputs": [],
   "source": [
    "def sparklines(data, lab, ax, x=None):\n",
    "    if x==None :#and len(x)==0:\n",
    "        x=np.arange(len(data)) \n",
    "    ax.plot(x, data, 'k', alpha=0.3)\n",
    "    ax.axis('off')\n",
    "    ax.set_xlim(-(x.max()-x.min())*0.1, (x.max()-x.min())*1.1)\n",
    "    try:\n",
    "        ax.plot(x[np.where(data == max(data))[0]], max(data), 'o', ms=15)\n",
    "    except ValueError:\n",
    "        try:\n",
    "            ax.plot(x[np.where(data == max(data))[0][0]], max(data), \n",
    "                    'o', ms=15)\n",
    "        except IndexError: pass\n",
    "    try:\n",
    "        ax.plot(x[np.where(data == min(data))[0]], min(data), 'o', ms=15)\n",
    "    except ValueError:\n",
    "        try:\n",
    "            ax.plot(x[np.where(data == min(data))[0][0]], min(data), \n",
    "                    'o', ms=15)\n",
    "        except IndexError: pass\n",
    "    ax.set_ylim(ax.get_ylim()[0]-(ax.get_ylim()[1]-ax.get_ylim()[0])/10, \n",
    "                \n",
    "                ax.get_ylim()[1])\n",
    "    ax.text(1., 0.5, \"%.1f\"%(min(data)), fontsize = 25, \n",
    "           transform = ax.transAxes, color='IndianRed')\n",
    "    ax.text(1.1, 0.5, \"%.1f\"%(max(data)), fontsize = 25, \n",
    "               transform = ax.transAxes, color='SteelBlue')\n",
    "    ax.text(-0.1, 0.95, lab, fontsize = 25, \n",
    "               transform = ax.transAxes)\n",
    "    if title:\n",
    "        ax.plot((0,ax.get_xlim()[1]), \n",
    "           (ax.get_ylim()[1], ax.get_ylim()[1]), 'k-',)\n",
    "\n"
   ]
  },
  {
   "cell_type": "code",
   "execution_count": null,
   "metadata": {
    "collapsed": false,
    "scrolled": false
   },
   "outputs": [],
   "source": [
    "m1=allights[0]\n",
    "m2=allights[1]\n",
    "fname = flist[0]\n",
    "nrow, ncol = 2048, 2448\n",
    "for i in range(0, len(flist), 31):\n",
    "    f0 = (median_filter(255*pow((1.0/255.0*np.fromfile(flist[i], \n",
    "                                                   dtype=np.uint8)),\n",
    "                            1.0/3), \n",
    "                                 footprint=(12*(i+1),12*(i+1),0))).\\\n",
    "    clip(90,255).astype(np.uint8)\n",
    "    #print(f0.shape, m)                  \n",
    "    #n0 = (len(f0)/3)\n",
    "\n",
    "    fig = pl.figure()\n",
    "    ax = fig.add_subplot(121)\n",
    "    ax.imshow(f0.reshape(nrow,ncol,nband)[m1[0]:m1[1],m1[2]:m1[3],:])\n",
    "    ax = fig.add_subplot(122)\n",
    "    ax.imshow(f0.reshape(nrow,ncol,nband)[m2[0]:m2[1],m2[2]:m2[3],:])\n"
   ]
  },
  {
   "cell_type": "code",
   "execution_count": 134,
   "metadata": {
    "collapsed": false,
    "scrolled": false
   },
   "outputs": [
    {
     "name": "stdout",
     "output_type": "stream",
     "text": [
      "0 [550, 650, 1150, 1250]\n",
      "1 [1250, 1350, 1300, 1400]\n"
     ]
    },
    {
     "data": {
      "text/plain": [
       "Text(0.2,1.2,'400 seconds                     min       max')"
      ]
     },
     "execution_count": 134,
     "metadata": {},
     "output_type": "execute_result"
    },
    {
     "data": {
      "image/png": "[encoded data removed]",
      "text/plain": [
       "<matplotlib.figure.Figure at 0x10ed197b8>"
      ]
     },
     "metadata": {},
     "output_type": "display_data"
    }
   ],
   "source": [
    "fig = pl.figure(figsize = (20,15))\n",
    "ax = []\n",
    "bs = np.zeros((lmax, nmax))\n",
    "badindx = []\n",
    "for i,cc in enumerate(allights[:lmax]):\n",
    "    print (i, cc)\n",
    "    x2 = 0 if i%2 == 0 else 2\n",
    "    #ax.append(pl.subplot2grid((25,3), ((i/2)+1, x2+1)))\n",
    "    ax.append(fig.add_subplot(lmax/2+1,2,i+1))\n",
    "    #if False:    \n",
    "    bs[i] = get_plot_lca (int(cc[0]), int(cc[2]), \n",
    "                                       int(cc[1]), int(cc[3]),\n",
    "                                           flist11975, \n",
    "                    fname+'_x%d_y%d'%(int(cc[0]), int(cc[1])), \n",
    "                          verbose=False)\n",
    "    \n",
    "    #pl.plot(b1)\n",
    "    sparklines(bs[i], '%d %d:%d'%(i, 0.5 * (int(cc[1])+int(cc[0])), \n",
    "                                  0.5 * (int(cc[2]) + int(cc[3]))), \n",
    "               ax[i])\n",
    "    \n",
    "    sample_rate = 0.25\n",
    "\n",
    "    \n",
    "    #ax[i].plot(np.arange(0, n*sample_rate, sample_rate), b1, 'IndianRed')\n",
    "    #ax[i].set_xlabel(\"seconds\")\n",
    "    #ax[i].set_ylabel(\"standardized flux\")\n",
    "    #pl.title(\"ESB 11975hz shutter 4Hz camera sampling\")\n",
    "\n",
    "ax[0].text (0.2, 1.2, \n",
    "            '{0:1d} seconds                     '.format(len(bs[0])*4) + \n",
    "            '{0:2s}       {1:2s}'.format('min','max'), \n",
    "            transform = ax[0].transAxes, fontsize=15)\n",
    "\n",
    "\n",
    "ax[1].text (0.2, 1.2, \n",
    "            '{0:1d} seconds                     '.format(len(bs[0])*4) + \n",
    "            '{0:1s}       {1:2s}'.format('min','max'), \n",
    "            transform = ax[1].transAxes, fontsize=15)"
   ]
  },
  {
   "cell_type": "code",
   "execution_count": null,
   "metadata": {
    "collapsed": true
   },
   "outputs": [],
   "source": [
    "sinelights = [[783,1095,2], [693,1099,1], [693,1123,3],[780,1127,4],[1233,1099,5],\n",
    " [1280,1135,7],[1280,1083,8],[46,1115,20],[559,1001,49],[515,1269,51],[429,1182,53],\n",
    "              [791,870,54],[984,579,58],\n",
    " [921,248,59],[1414,957,70],[1414,981,76],[1481,957,77],[1883,508,105],[2080,1269,121]]"
   ]
  },
  {
   "cell_type": "code",
   "execution_count": null,
   "metadata": {
    "collapsed": false
   },
   "outputs": [],
   "source": [
    " \n",
    "\n",
    "from images2gif import writeGif\n",
    "from PIL import Image, ImageSequence\n",
    "#import Image\n",
    "import IPython.display as IPdisplay\n",
    "\n",
    "def callplotw(xc, yc, i, fname = None, len=40):\n",
    "    fig = pl.figure(figsize=(20,20))\n",
    "    ax1 = fig.add_subplot(121)\n",
    "    plotwindows(xc-25, yc-25, xc+25, yc+25, flist11975[10], axs=ax1, c='w', plotimg = 0)\n",
    "    ax2 = fig.add_subplot(122)\n",
    "    \n",
    "    plotwindows(xc-25, yc-25, xc+25, yc+25, flist11975[nmax-10], axs=ax2, c='w', plotimg = 0)\n",
    "    if fname: \n",
    "        images = [Image.fromarray(np.fromfile(f,\n",
    "                              dtype=np.uint8).reshape(nrow,\n",
    "                                                      ncol, nband)[yc-20:yc+22,\n",
    "                                                                   xc-20:xc+22]) \\\n",
    "                  for f in flist11975[:len]]\n",
    "        #print (images, fname)\n",
    "        writeGif(fname + \"_%04d_%04d\"%(xc,yc)+\".GIF\", images, duration=0.01)\n",
    "        \n",
    "    fig = pl.figure(figsize=(20,2))\n",
    "    ax3 = fig.add_subplot(121)\n",
    "    ax3.plot(bs[i], label = \"time series\")\n",
    "    ax3.legend()\n",
    "\n",
    "    ax4 = fig.add_subplot(122)\n",
    "    ax4.plot(np.fft.rfftfreq(nmax, d=sample_rate)[2:], np.abs(np.fft.rfft(bs[i]))[2:], \n",
    "             label = \"fft\")\n",
    "    ax4.plot([0.23, 0.23], [ax4.get_ylim()[0], ax4.get_ylim()[1]])\n",
    "    ax4.legend()"
   ]
  },
  {
   "cell_type": "code",
   "execution_count": null,
   "metadata": {
    "collapsed": false
   },
   "outputs": [],
   "source": [
    "fnameroot = 'ESB_119.75_camera4_100ms'\n",
    "callplotw(783, 1095, 0, fname = fnameroot, len=100)\n",
    "print (fnameroot + \"_%d_%d\"%(783, 1095)+\".GIF\")\n",
    "IPdisplay.Image(url=fnameroot + \"_%04d_%04d\"%(783, 1095)+\".GIF\")"
   ]
  },
  {
   "cell_type": "code",
   "execution_count": null,
   "metadata": {
    "collapsed": false
   },
   "outputs": [],
   "source": [
    "def makeGifLcPlot(x,y,ind,fnameroot): \n",
    "    callplotw(x, y, ind, fname = fnameroot, len=160)\n",
    "    print (fnameroot + \"_%d_%d\"%(x,y)+\".GIF\")\n",
    "    IPdisplay.Image(url=fnameroot + \"_%04d_%04d\"%(x,y)+\".GIF\")\n",
    "    \n",
    "for coords in sinelights:\n",
    "    makeGifLcPlot(coords[0],coords[1],coords[2],fnameroot)"
   ]
  },
  {
   "cell_type": "code",
   "execution_count": null,
   "metadata": {
    "collapsed": false
   },
   "outputs": [],
   "source": [
    "x,y = 791, 870\n",
    "callplotw(x, y, 54, fname = fnameroot, len=100)\n",
    "print (fnameroot + \"_%d_%d\"%(x,y)+\".GIF\")\n",
    "IPdisplay.Image(url=fnameroot + \"_%04d_%04d\"%(x,y)+\".GIF\")"
   ]
  },
  {
   "cell_type": "code",
   "execution_count": null,
   "metadata": {
    "collapsed": true
   },
   "outputs": [],
   "source": [
    "from sklearn.datasets import load_iris\n",
    "from sklearn.decomposition import PCA\n",
    "badindx = []\n",
    "for i,bsi in enumerate(bs):\n",
    "    if np.isnan(bsi).any():\n",
    "        \n",
    "        badindx.append(i)\n",
    "bsnew = np.delete(bs, badindx, 0)"
   ]
  },
  {
   "cell_type": "code",
   "execution_count": null,
   "metadata": {
    "collapsed": false
   },
   "outputs": [],
   "source": [
    "alllightsnew = np.delete(allights[:lmax],  badindx, 0)"
   ]
  },
  {
   "cell_type": "code",
   "execution_count": null,
   "metadata": {
    "collapsed": false
   },
   "outputs": [],
   "source": [
    "bs = bsnew\n",
    "fig = pl.figure(figsize = (20,300))\n",
    "ax = []\n",
    "\n",
    "\n",
    "pca = PCA()\n",
    "X_pca = pca.fit_transform(bs)\n",
    "pca.fit(bs)\n",
    "\n",
    "evals = pca.explained_variance_ratio_\n",
    "print (evals.cumsum())\n",
    "evals_cs = evals.cumsum()\n",
    "\n",
    "#  because the spectra have been reconstructed from masked values, this\n",
    "#  is not exactly correct in this case: we'll use the values computed\n",
    "#  in the file compute_sdss_pca.py\n",
    "#evals = data['evals'] ** 2\n",
    "#evals_cs = evals.cumsum()\n",
    "#evals_cs /= evals_cs[-1]\n",
    "#evecs=data['evecs']\n",
    "\n",
    "evecs = pca.components_\n",
    "\n",
    "for i,Xc in enumerate(evecs):\n",
    "    if evals_cs[i] > 91:\n",
    "        break\n",
    "    x2 = 0 if i%2 == 0 else 2\n",
    "    #ax.append(pl.subplot2grid((25,3), ((i/2)+1, x2+1)))\n",
    "    ax.append(fig.add_subplot(lmax/2+1,2,i+1))\n",
    "    #if False:    \n",
    "    #pl.plot(b1)\n",
    "    sparklines(Xc, \"%.3f\"%evals_cs[i], ax[i])\n",
    "    \n",
    "    #sample_rate = 0.25\n",
    "\n",
    "    #ax[i].plot(np.arange(0, n*sample_rate, sample_rate), b1, 'IndianRed')\n",
    "    #ax[i].set_xlabel(\"seconds\")\n",
    "    #ax[i].set_ylabel(\"standardized flux\")\n",
    "    #pl.title(\"ESB 11975hz shutter 4Hz camera sampling\")\n",
    "\n"
   ]
  },
  {
   "cell_type": "code",
   "execution_count": null,
   "metadata": {
    "collapsed": false,
    "scrolled": true
   },
   "outputs": [],
   "source": [
    "from sklearn.cluster import KMeans\n",
    "\n",
    "km = KMeans(n_clusters=10)\n",
    "\n",
    "\n",
    "vals = ((bs.T - bs.mean(1))/bs.std(1)).T\n",
    "\n",
    "km.fit(vals)\n",
    "km.cluster_centers_\n",
    "km.labels_\n",
    "fig = pl.figure(figsize=(20,100))\n",
    "ax = []\n",
    "freq = np.fft.rfftfreq(nmax, d=sample_rate)\n",
    "for i,Xc in enumerate(km.cluster_centers_):\n",
    "    ax.append(fig.add_subplot(20,2,(i*2+1)))\n",
    "    #if False:    \n",
    "    #pl.plot(b1)\n",
    "    sparklines(Xc, \"%i\"%(i), ax[-1])\n",
    "    ax.append(fig.add_subplot(20,2,(i*2+2)))\n",
    "    fft = np.abs(np.fft.rfft(Xc))[1:]\n",
    "    fft[0]=-3\n",
    "    sparklines(fft, \"%i\"%(i), ax[-1], x=freq[1:])\n",
    "    ax[-1].plot([0.25,0.25],[fft.min(),fft.max()],'k-')\n",
    "    ax[-1].text(0.8,0.8,\"cluster %i\"%i,color=kelly_colors_hex[i], transform=ax[-1].transAxes)\n",
    "    #ax[i].plot(freq, np.abs(np.fft.rfft(Xc)), alpha=0.5, color='IndianRed')\n",
    "ax[-1].axis(\"on\")\n",
    "km.labels_\n"
   ]
  },
  {
   "cell_type": "code",
   "execution_count": null,
   "metadata": {
    "collapsed": false,
    "scrolled": false
   },
   "outputs": [],
   "source": [
    "\n",
    "font = {'size'   : 23}\n",
    "pl.rc('font', **font)\n",
    "allights2=allights\n",
    "for i in badindx:\n",
    "    allights2=np.delete(allights, i, 0)\n",
    "for i in badindx:\n",
    "    allights2=np.delete(allights, i, 0)\n",
    "fig = figure(figsize=(15,15))\n",
    "axs = fig.add_subplot(111)\n",
    "#import matplotlib.image as mpimg\n",
    "#img=mpimg.imread('ESBstack.png')\n",
    "#img = np.sum(np.array([np.fromfile(flist11975[i],dtype=np.uint8).reshape(nrow,ncol,nband) for i in range(1)]), axis=0)\n",
    "img = np.fromfile(flist11975[0],dtype=np.uint8).reshape(nrow,ncol,nband)\n",
    "print (img.shape)\n",
    "axs.imshow(img,  interpolation='none')\n",
    "axs.set_xlim(0, axs.get_xlim()[1])\n",
    "axs.set_ylim(axs.get_ylim()[0], 0)\n",
    "fig2 = figure(figsize=(15,15))\n",
    "axs2 = fig2.add_subplot(111)\n",
    "\n",
    "for i,cc in enumerate(allights2[:lmax-len(badindx)]):\n",
    "    x1,x2=int(cc[0])-13,int(cc[0])+14\n",
    "    y1,y2=int(cc[1])-13, int(cc[1])+14\n",
    "    axs.plot([x1,x2],[y1,y1], '-', color='%s'%kelly_colors_hex[km.labels_[i]])    \n",
    "    axs.plot([x2,x2],[y1,y2], '-', color='%s'%kelly_colors_hex[km.labels_[i]])    \n",
    "    axs.plot([x1,x2],[y2,y2], '-', color='%s'%kelly_colors_hex[km.labels_[i]])    \n",
    "    axs.plot([x1,x1],[y2,y1], '-', color='%s'%kelly_colors_hex[km.labels_[i]])  \n",
    "    R = sum(img[y1:y2,x1:x2,0].astype(float))\n",
    "    G = sum(img[y1:y2,x1:x2,1].astype(float))\n",
    "    B = sum(img[y1:y2,x1:x2,2].astype(float))\n",
    "    norm = max([R,G,B])\n",
    "    axs.plot(int(cc[0]),int(cc[1]), 'o', color=(R/norm, G/norm, B/norm))    \n",
    "    \n",
    "    #print (km.labels_[i], '{0:.2f} {1:.2f} {2:.2f}'.format(R/norm, G/norm, B/norm))\n",
    "    axs2.scatter(km.labels_[i], sum(img[y1:y2,x1:x2,:]), s=60, \n",
    "                 color = (R/norm, G/norm, B/norm), alpha=0.8)  \n",
    "axs2.set_xlim(-0.5,9.5)\n",
    "axs2.set_xlabel(\"K-means cluster\")\n",
    "axs2.set_ylabel(\"brightness\")\n",
    "axs2.set_title(\"color : light RGB\")"
   ]
  },
  {
   "cell_type": "code",
   "execution_count": null,
   "metadata": {
    "collapsed": false,
    "scrolled": false
   },
   "outputs": [],
   "source": [
    "for i in badindx:\n",
    "    allights2=np.delete(allights, i, 0)\n",
    "for i in badindx:\n",
    "    allights2=np.delete(allights, i, 0)\n",
    "fig=figure(figsize=(15,15))\n",
    "axs = fig.add_subplot(111)\n",
    "axs.imshow(np.fromfile(flist11975[0],dtype=np.uint8).reshape(nrow,ncol,nband),  interpolation='none')\n",
    "\n",
    "for i,cc in enumerate(allights2[:lmax-len(badindx)]):\n",
    "    x1,x2=int(cc[0])-13,int(cc[0])+14\n",
    "    y1,y2=int(cc[1])-13, int(cc[1])+14\n",
    "    axs.plot([x1,x2],[y1,y1], '-', color='%s'%kelly_colors_hex[km.labels_[i]])    \n",
    "    axs.plot([x2,x2],[y1,y2], '-', color='%s'%kelly_colors_hex[km.labels_[i]])    \n",
    "    axs.plot([x1,x2],[y2,y2], '-', color='%s'%kelly_colors_hex[km.labels_[i]])    \n",
    "    axs.plot([x1,x1],[y2,y1], '-', color='%s'%kelly_colors_hex[km.labels_[i]])    \n"
   ]
  },
  {
   "cell_type": "code",
   "execution_count": null,
   "metadata": {
    "collapsed": false,
    "scrolled": false
   },
   "outputs": [],
   "source": [
    "phi0 = 0\n",
    "wfreq = 0.22\n",
    "import scipy.optimize\n",
    "\n",
    "wave = lambda t, phi: np.sin(2.*wfreq*np.pi*t+phi)\n",
    "resd = lambda phi, x, t: np.sum((wave(t*0.25, phi) - x)**2)\n",
    "ntot = 0\n",
    "for i in [1,2,3,4,7]: \n",
    "    ntot += sum(km.labels_ == i)\n",
    "\n",
    "fig = pl.figure(figsize=(20,200))\n",
    "j = 0\n",
    "phases = np.zeros((4,len(bs)))*float('NaN')\n",
    "for i,Xc in enumerate(bs):\n",
    "    if km.labels_[i] in [1,2,3,4,7]:\n",
    "        j = j+1\n",
    "        ax.append(fig.add_subplot(ntot+1,1,(j+1)))\n",
    "        fits = scipy.optimize.minimize(resd, phi0, \n",
    "                                       args=((Xc-Xc.mean())/Xc.std(), np.arange(len(Xc))))\n",
    "        #print ( fits )\n",
    "        phases[0][i] = fits.x%(2*np.pi)\n",
    "        phases[1][i] = km.labels_[i]\n",
    "        phases[2][i] = alllightsnew[i][0]\n",
    "        phases[3][i] = alllightsnew[i][1]\n",
    "        ax[-1].plot(np.arange(len(Xc))*0.25,(Xc-Xc.mean())/Xc.std())\n",
    "        ax[-1].plot(np.arange(len(Xc))*0.25,wave(np.arange(len(Xc))*0.25, phases[0][i]))\n",
    "        ax[-1].set_xlabel(\"seconds\")"
   ]
  },
  {
   "cell_type": "code",
   "execution_count": null,
   "metadata": {
    "collapsed": false
   },
   "outputs": [],
   "source": [
    "phases[0]"
   ]
  },
  {
   "cell_type": "code",
   "execution_count": null,
   "metadata": {
    "collapsed": false,
    "scrolled": false
   },
   "outputs": [],
   "source": [
    "ax = pl.figure().add_subplot(111)\n",
    "for i in set(phases[1][~np.isnan(phases[0])]):\n",
    "    print (i)\n",
    "    pl.plot(i, np.mean(phases[0][phases[1]==i]/np.pi), \n",
    "            'o', ms=sum(phases[1]==i)*5, alpha=0.3)\n",
    "pl.plot(phases[1], phases[0]/np.pi, 'o')\n",
    "ax.set_xlim(-0.5,9.5)\n",
    "ax.set_xlabel(\"K-means cluster\")\n",
    "ax.set_ylabel(r\"phase ($\\pi$)\")\n",
    "\n",
    "ax = pl.figure().add_subplot(111)\n",
    "cmap =  pl.cm.rainbow(phases[0][~np.isnan(phases[0])])\n",
    "print (len(cmap), len(phases[0][~np.isnan(phases[0])]), cmap)\n",
    "\n",
    "#cmap = cm.rainbow\n",
    "#cs1 = [colors[i] for i in range(len(phases[0]))] \n",
    "#for p in range(len(phases[0])):\n",
    "#    pl.scatter(phases[2][p], phases[3][p], color = cmap(len(phases[0]) / float(phases[0][p])))\n",
    "pl.scatter(phases[2][~np.isnan(phases[0])], phases[3][~np.isnan(phases[0])], color = cmap)\n",
    "ax.get_axes().set_aspect('equal', 'datalim')\n",
    "ax.axis('off')"
   ]
  },
  {
   "cell_type": "code",
   "execution_count": null,
   "metadata": {
    "collapsed": true
   },
   "outputs": [],
   "source": []
  },
  {
   "cell_type": "code",
   "execution_count": null,
   "metadata": {
    "collapsed": true
   },
   "outputs": [],
   "source": []
  }
 ],
 "metadata": {
  "kernelspec": {
   "display_name": "Python 3",
   "language": "python",
   "name": "python3"
  },
  "language_info": {
   "codemirror_mode": {
    "name": "ipython",
    "version": 3
   },
   "file_extension": ".py",
   "mimetype": "text/x-python",
   "name": "python",
   "nbconvert_exporter": "python",
   "pygments_lexer": "ipython3",
   "version": "3.5.2"
  }
 },
 "nbformat": 4,
 "nbformat_minor": 0
}
